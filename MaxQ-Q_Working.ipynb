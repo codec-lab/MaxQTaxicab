{
 "cells": [
  {
   "cell_type": "code",
   "execution_count": 5,
   "id": "49caea44",
   "metadata": {},
   "outputs": [],
   "source": [
    "#editted taxicab to change that\n",
    "#Reward function still different, not anymore\n",
    "\n",
    "#to make exactly like og taxicab, init state will have waiting passenger and only 1 waiting passenger at a time\n",
    "from rllib.taxicab import TaxiCab, TaxiCabRenderer, Location\n",
    "import numpy as np\n",
    "from itertools import product\n",
    "import matplotlib.pyplot as plt\n",
    "import random\n",
    "import pandas as pd\n",
    "from tasks import *"
   ]
  },
  {
   "cell_type": "code",
   "execution_count": 6,
   "id": "fe9af694",
   "metadata": {},
   "outputs": [],
   "source": [
    "#original layout_str\n",
    "# layout_str = \"\"\"\n",
    "# A-#--B\n",
    "# --#---\n",
    "# -----\n",
    "# -#--#\n",
    "# C#--#D \n",
    "# \"\"\"\n",
    "\n",
    "#test layout_str\n",
    "layout_str = \"\"\"\n",
    "A----B\n",
    "------\n",
    "------\n",
    "------\n",
    "C----D \n",
    "\"\"\"\n"
   ]
  },
  {
   "cell_type": "code",
   "execution_count": 7,
   "id": "c633d07b",
   "metadata": {},
   "outputs": [],
   "source": [
    "taxicab = TaxiCab(layout_str)\n",
    "st = taxicab.initial_state_sample()"
   ]
  },
  {
   "cell_type": "code",
   "execution_count": 8,
   "id": "dc7a7ca2",
   "metadata": {},
   "outputs": [],
   "source": [
    "a_east,a_west, a_north, a_south, a_pickup, a_putdown = taxicab.actions(taxicab.initial_state_sample())"
   ]
  },
  {
   "cell_type": "code",
   "execution_count": 9,
   "id": "c78cac6d",
   "metadata": {},
   "outputs": [],
   "source": [
    "def get_v(task,state):\n",
    "    if task.is_primitive:\n",
    "        task.init_cv(state,'prim')\n",
    "        return task.cv[state]['prim']\n",
    "    else:  \n",
    "        best_action_pairs = [[a,get_v(task_list[a],state)] for a in task.available_actions]\n",
    "        best_a = None\n",
    "        best_a_val_plus_cv = float('-inf') #the val of the first pair\n",
    "        best_options = []\n",
    "        \n",
    "        for i in range(len(best_action_pairs)):\n",
    "            task.init_cv(state,best_action_pairs[i][0])\n",
    "            if best_action_pairs[i][1] + task.ct[state][best_action_pairs[i][0]] > best_a_val_plus_cv:\n",
    "                best_a_val_plus_cv = best_action_pairs[i][1] + task.cv[state][best_action_pairs[i][0]]\n",
    "                best_a = best_action_pairs[i][0]\n",
    "\n",
    "        return best_a_val_plus_cv"
   ]
  },
  {
   "cell_type": "code",
   "execution_count": 10,
   "id": "d47c1a73",
   "metadata": {},
   "outputs": [],
   "source": [
    "def get_best_action(task,next_state):\n",
    "    a_star_num = -1\n",
    "    a_vals = {}\n",
    "    for poss_a in task.available_actions: #poss_a is the task number\n",
    "        score = task.ct[next_state][poss_a] + get_v(task_list[poss_a],next_state)\n",
    "        a_vals[poss_a] = score\n",
    "    max_val = max(a_vals.values())\n",
    "    max_avals = [key for key, value in a_vals.items() if value == max_val]\n",
    "\n",
    "    a_star_num = random.choice(max_avals)\n",
    "    return task_list[a_star_num], a_star_num"
   ]
  },
  {
   "cell_type": "code",
   "execution_count": 21,
   "id": "0df88d23",
   "metadata": {},
   "outputs": [],
   "source": [
    "task_list = [root(),put(),get(),navigate(),pickup(),putdown(),north(),south(),east(),west()]\n",
    "action_tasks = [a_east,a_west, a_north, a_south, a_pickup, a_putdown] #10, 11, 12, 13, 14 ,15\n",
    "task_list.extend(action_tasks)\n",
    "taxicab = TaxiCab(layout_str)\n",
    "state = taxicab.initial_state_sample()"
   ]
  },
  {
   "cell_type": "code",
   "execution_count": 12,
   "id": "458dd284",
   "metadata": {},
   "outputs": [],
   "source": [
    "discount_factor = 0.2\n",
    "learning_rate = 0.9"
   ]
  },
  {
   "cell_type": "code",
   "execution_count": 13,
   "id": "cf1f4a47",
   "metadata": {},
   "outputs": [],
   "source": [
    "scores = []\n",
    "maxes_list = []\n",
    "cv_updates = {}\n",
    "matches = []\n",
    "correct_pickups = []\n",
    "correct_putdowns = []\n",
    "nav_times = []\n",
    "state_action_counts = {}\n",
    "def maxq_q(task,state,printer = False):\n",
    "    seq = [] #Should be the sequence of nodes while visiting i\n",
    "    #task.epsilon *= task.epsilon_decay\n",
    "    if task.is_primitive: \n",
    "        action = task_list[task.available_actions[0]]\n",
    "        next_state = taxicab.next_state_sample(state, action) \n",
    "        reward = task.reward(state,next_state)\n",
    "        task.init_cv(state,'prim')        \n",
    "        task.cv[state]['prim'] = (1-discount_factor) * task.cv[state]['prim'] + discount_factor*reward\n",
    "        seq.insert(0,state)\n",
    "    else:\n",
    "        next_state = None\n",
    "        while True: #will break when task is terminated\n",
    "            \n",
    "            #Step 1, Get action from policy\n",
    "            action_num, t, maxes = task.egreedy_policy(state) #or better policy\n",
    "            action_num_og = action_num\n",
    "            #for debug\n",
    "            if maxes != 0:\n",
    "                maxes_list.append(maxes)\n",
    "            if state not in state_action_counts.keys():\n",
    "                state_action_counts[state] = {}\n",
    "            if action_num not in state_action_counts[state].keys():\n",
    "                state_action_counts[state][action_num] = 0\n",
    "            state_action_counts[state][action_num] += 1\n",
    "            \n",
    "            action = task_list[action_num]\n",
    "            task.init_cv(state,action_num) \n",
    "            \n",
    "            #for debug\n",
    "            if isinstance(task,get):\n",
    "                if state.taxi.location == state.waiting_passengers[0].location:\n",
    "                    correct_pickups.append(action_num == 4)\n",
    "            if isinstance(task,put):\n",
    "                if state.taxi.location == state.taxi.passenger.destination:\n",
    "                    correct_pickups.append(action_num == 5)\n",
    "            \n",
    "            \n",
    "            #Step 2, Get childseq and next_state, Recursive Step\n",
    "            child_seq,next_state = maxq_q(action,state,printer) #line 11 of psuedocode\n",
    "            #for debug\n",
    "            if isinstance(task,get):\n",
    "                nav_times.append(len(child_seq))\n",
    "            task.init_cv(next_state,action_num)\n",
    "\n",
    "            #Step3, Get best action factoring in task reward\n",
    "            a_star, a_star_num = get_best_action(task,next_state)\n",
    "                \n",
    "            #Step 4, update ct and cv\n",
    "            N = 1            \n",
    "            for i in range(len(child_seq)):\n",
    "                s = child_seq[i]\n",
    "                if i == len(child_seq) - 1:\n",
    "                    s_prime = next_state\n",
    "                else:\n",
    "                    s_prime = child_seq[i+1]\n",
    "                task.init_cv(s,a_star_num)\n",
    "                task.init_cv(s_prime,a_star_num)\n",
    "                \n",
    "                #Q update similarity\n",
    "                task.ct[s][action_num]= (1-discount_factor) * task.ct[s][action_num] + discount_factor * learning_rate**N * \\\n",
    "                (task.reward(s,s_prime)+ task.ct[s_prime][a_star_num]  + get_v(a_star,s_prime))\n",
    "\n",
    "\n",
    "                #SARSA update similarity    \n",
    "                task.cv[s][action_num] = (1-discount_factor) * task.cv[s][action_num] + \\\n",
    "                discount_factor * learning_rate**N * (task.cv[s_prime][a_star_num]  + get_v(a_star, s_prime))\n",
    "                N+=1\n",
    "            seq = child_seq + seq\n",
    "            if task.termination_condition(state,next_state):\n",
    "                state = next_state\n",
    "                break\n",
    "            state = next_state\n",
    "    return seq,next_state"
   ]
  },
  {
   "cell_type": "code",
   "execution_count": 14,
   "id": "5726cb83",
   "metadata": {
    "scrolled": true
   },
   "outputs": [
    {
     "name": "stdout",
     "output_type": "stream",
     "text": [
      "Wall time: 59.5 s\n"
     ]
    }
   ],
   "source": [
    "%%time \n",
    "countlist = []\n",
    "for i in range(10000):\n",
    "    init_state = taxicab.initial_state_sample()\n",
    "    countlist.append(len(maxq_q(task_list[0],init_state)[0]))\n",
    "#without reward"
   ]
  },
  {
   "cell_type": "code",
   "execution_count": 22,
   "id": "bc375448",
   "metadata": {},
   "outputs": [
    {
     "name": "stdout",
     "output_type": "stream",
     "text": [
      "Wall time: 1min\n"
     ]
    }
   ],
   "source": [
    "%%time \n",
    "countlist = []\n",
    "for i in range(10000):\n",
    "    init_state = taxicab.initial_state_sample()\n",
    "    countlist.append(len(maxq_q(task_list[0],init_state)[0]))\n",
    "#with ct reward"
   ]
  },
  {
   "cell_type": "code",
   "execution_count": 23,
   "id": "080569cb",
   "metadata": {},
   "outputs": [
    {
     "data": {
      "text/plain": [
       "3.5228383487535733"
      ]
     },
     "execution_count": 23,
     "metadata": {},
     "output_type": "execute_result"
    }
   ],
   "source": [
    "pd.Series(nav_times).mean()"
   ]
  },
  {
   "cell_type": "code",
   "execution_count": 24,
   "id": "ee425161",
   "metadata": {},
   "outputs": [
    {
     "name": "stdout",
     "output_type": "stream",
     "text": [
      "0.950344499881207\n"
     ]
    }
   ],
   "source": [
    "print(pd.Series(correct_pickups).mean())"
   ]
  },
  {
   "cell_type": "code",
   "execution_count": 25,
   "id": "42fbf526",
   "metadata": {},
   "outputs": [
    {
     "data": {
      "text/plain": [
       "15.8151"
      ]
     },
     "execution_count": 25,
     "metadata": {},
     "output_type": "execute_result"
    },
    {
     "data": {
      "image/png": "[encoded data removed]",
      "text/plain": [
       "<Figure size 432x288 with 1 Axes>"
      ]
     },
     "metadata": {
      "needs_background": "light"
     },
     "output_type": "display_data"
    }
   ],
   "source": [
    "pd.Series(countlist).rolling(100).mean().plot.line()\n",
    "pd.Series(countlist).mean()"
   ]
  },
  {
   "cell_type": "code",
   "execution_count": 26,
   "id": "9a949f63",
   "metadata": {},
   "outputs": [
    {
     "data": {
      "text/plain": [
       "3.5228383487535733"
      ]
     },
     "execution_count": 26,
     "metadata": {},
     "output_type": "execute_result"
    },
    {
     "data": {
      "image/png": "[encoded data removed]",
      "text/plain": [
       "<Figure size 432x288 with 1 Axes>"
      ]
     },
     "metadata": {
      "needs_background": "light"
     },
     "output_type": "display_data"
    }
   ],
   "source": [
    "pd.Series(nav_times).rolling(100).mean().plot.line()\n",
    "pd.Series(nav_times).mean()"
   ]
  },
  {
   "cell_type": "code",
   "execution_count": 27,
   "id": "0af7617d",
   "metadata": {},
   "outputs": [],
   "source": [
    "def t(argument):\n",
    "    switcher = {\n",
    "        0: \"root\",\n",
    "        1: \"put\",\n",
    "        2: \"get\",\n",
    "        3: \"navigate\",\n",
    "        4: \"pickup\",\n",
    "        5: \"putdown\",\n",
    "        6: 'north',\n",
    "        7: 'south',\n",
    "        8: 'east',\n",
    "        9: 'west'\n",
    "    }\n",
    "    return switcher.get(argument, \"nothing\")"
   ]
  },
  {
   "cell_type": "code",
   "execution_count": null,
   "id": "8867da2d",
   "metadata": {},
   "outputs": [],
   "source": []
  }
 ],
 "metadata": {
  "kernelspec": {
   "display_name": "Python 3 (ipykernel)",
   "language": "python",
   "name": "python3"
  },
  "language_info": {
   "codemirror_mode": {
    "name": "ipython",
    "version": 3
   },
   "file_extension": ".py",
   "mimetype": "text/x-python",
   "name": "python",
   "nbconvert_exporter": "python",
   "pygments_lexer": "ipython3",
   "version": "3.9.7"
  }
 },
 "nbformat": 4,
 "nbformat_minor": 5
}
