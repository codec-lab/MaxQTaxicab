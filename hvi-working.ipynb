{
 "cells": [
  {
   "cell_type": "markdown",
   "metadata": {},
   "source": [
    "### Hierarchical VI"
   ]
  },
  {
   "cell_type": "code",
   "execution_count": 1,
   "metadata": {},
   "outputs": [],
   "source": [
    "from ihrl.hvi import val_true\n",
    "from ihrl.taxicab import TaxiMDP, Root, taxi_state\n",
    "\n",
    "layout_str = \"\"\"\n",
    "A--B\n",
    "----\n",
    "----\n",
    "C--D \n",
    "\"\"\"\n",
    "mdp = TaxiMDP(layout_str)\n",
    "init_subtask = Root(mdp)\n",
    "init_state = taxi_state(0, 0, mdp.width-1, mdp.height-1)\n",
    "val = val_true(init_subtask, init_state, max_horizon=10)"
   ]
  },
  {
   "cell_type": "code",
   "execution_count": 2,
   "metadata": {},
   "outputs": [
    {
     "data": {
      "text/plain": [
       "21.0"
      ]
     },
     "execution_count": 2,
     "metadata": {},
     "output_type": "execute_result"
    }
   ],
   "source": [
    "val"
   ]
  },
  {
   "cell_type": "code",
   "execution_count": null,
   "metadata": {},
   "outputs": [],
   "source": []
  }
 ],
 "metadata": {
  "kernelspec": {
   "display_name": "env39",
   "language": "python",
   "name": "python3"
  },
  "language_info": {
   "codemirror_mode": {
    "name": "ipython",
    "version": 3
   },
   "file_extension": ".py",
   "mimetype": "text/x-python",
   "name": "python",
   "nbconvert_exporter": "python",
   "pygments_lexer": "ipython3",
   "version": "3.9.16"
  }
 },
 "nbformat": 4,
 "nbformat_minor": 2
}
